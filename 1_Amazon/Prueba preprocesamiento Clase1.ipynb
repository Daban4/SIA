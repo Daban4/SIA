{
 "cells": [
  {
   "cell_type": "code",
   "execution_count": 90,
   "id": "e4ae99ca-7a22-4e85-b156-1071f89ee5b7",
   "metadata": {},
   "outputs": [
    {
     "name": "stdout",
     "output_type": "stream",
     "text": [
      "[[ 4  0  0  0 19]\n",
      " [ 0  0  0  0  8]\n",
      " [ 0  0  0  0 11]\n",
      " [ 0  0  0  2 21]\n",
      " [ 0  0  0  0 81]]\n"
     ]
    },
    {
     "data": {
      "image/png": "[encoded data removed]",
      "text/plain": [
       "<Figure size 800x600 with 2 Axes>"
      ]
     },
     "metadata": {},
     "output_type": "display_data"
    },
    {
     "name": "stdout",
     "output_type": "stream",
     "text": [
      "Accuracy: 0.60\n"
     ]
    }
   ],
   "source": [
    "\"\"\"\n",
    "import re\n",
    "import nltk\n",
    "import spacy\n",
    "import pandas as pd\n",
    "from nltk.corpus import stopwords\n",
    "from sklearn.feature_extraction.text import TfidfVectorizer\n",
    "from sklearn.model_selection import train_test_split\n",
    "from sklearn.naive_bayes import MultinomialNB\n",
    "from sklearn.metrics import accuracy_score\n",
    "\n",
    "\n",
    "spacy.cli.download(\"en_core_web_sm\")  # Descargar el modelo de spaCy\n",
    "\"\"\"\n",
    "nlp = spacy.load(\"en_core_web_sm\")  # Cargar modelo de spaCy en inglés\n",
    "\n",
    "# Cargar stopwords en inglés de NLTK\n",
    "stop_words = set(stopwords.words('spanish'))\n",
    "\n",
    "# Ejemplo de review con su puntuación\n",
    "\"\"\"reviews = [\n",
    "    (\"The product is amazing! I love it so much. Highly recommended!\", 5),\n",
    "    (\"It's okay, NOT the best but not the worst either.\", 3),\n",
    "    (\"Terrible experience. The quality is very bad.\", 1)\n",
    "]\n",
    "\"\"\"\n",
    "df = pd.read_csv(\"data/reviews.csv\")  \n",
    "#prueba = [df.review[1:], df.stars[1:]]\n",
    "reviews = np.column_stack((df.review, df.stars)) \n",
    "\n",
    "\n",
    "def preprocess_text(text):\n",
    "    # 1. Convertir a minúsculas\n",
    "    #text = text.lower()\n",
    "    # 2. Eliminar caracteres especiales y números\n",
    "    text = re.sub(r'[^a-zA-Z\\s]', '', text)\n",
    "    palabras = text.split()\n",
    "    for palabra in palabras:\n",
    "        if not palabra.isupper() or len(palabra) < 2: \n",
    "            palabra.lower()\n",
    "\n",
    "    text = \" \".join(palabras)  \n",
    "    # 3. Tokenización y lematización con spaCy\n",
    "    doc = nlp(text)\n",
    "    tokens = [token.lemma_ for token in doc if token.lemma_ not in stop_words and not token.is_punct]\n",
    "    \n",
    "    # 4. Unir tokens procesados\n",
    "    return ' '.join(tokens)\n",
    "\n",
    "# Aplicar preprocesamiento a cada review\n",
    "processed_reviews = [(preprocess_text(text), score) for text, score in reviews]\n",
    "# Convertir a DataFrame para su uso en ML\n",
    "df = pd.DataFrame(processed_reviews, columns=['review', 'score'])\n",
    "\n",
    "# Vectorización con TF-IDF\n",
    "vectorizer = TfidfVectorizer()\n",
    "X = vectorizer.fit_transform(df['review'])\n",
    "y = df['score']\n",
    "\n",
    "\n",
    "# Verificar si hay suficientes datos para dividir\n",
    "if len(df) > 1:\n",
    "    # División de datos para entrenamiento y prueba\n",
    "    X_train, X_test, y_train, y_test = train_test_split(X, y, test_size=0.2,stratify=y,random_state=42)\n",
    "\n",
    "    # Entrenar un modelo simple (Random forest)\n",
    "    pesos = 1/(y_train.value_counts(sort = False) / len(y_train)).sort_index()\n",
    "    pesos_dict = pesos.to_dict()\n",
    "    model = RandomForestClassifier(random_state=0, class_weight = pesos_dict)\n",
    "    model.fit(X_train, y_train)\n",
    "    cm = confusion_matrix(y_test, y_pred)\n",
    "    print(cm)\n",
    "    plt.figure(figsize=(8, 6))\n",
    "    sns.heatmap(cm, annot=True, fmt='d', cmap='Blues', xticklabels=[1, 2, 3, 4, 5], yticklabels=[1, 2, 3, 4, 5])\n",
    "    plt.title('Matriz de Confusión')\n",
    "    plt.xlabel('Predicción')\n",
    "    plt.ylabel('Real')\n",
    "    plt.show()\n",
    "    # Evaluación\n",
    "    y_pred = model.predict(X_test)\n",
    "    print(f'Accuracy: {accuracy_score(y_test, y_pred):.2f}')\n",
    "else:\n",
    "    print(\"No hay suficientes datos para entrenar el modelo.\")\n"
   ]
  },
  {
   "cell_type": "code",
   "execution_count": 73,
   "id": "2c83c8df-5322-4a52-99df-e7f7a378fca0",
   "metadata": {},
   "outputs": [
    {
     "name": "stdout",
     "output_type": "stream",
     "text": [
      "\u001b[38;5;2m✔ Download and installation successful\u001b[0m\n",
      "You can now load the package via spacy.load('en_core_web_sm')\n",
      "\u001b[38;5;3m⚠ Restart to reload dependencies\u001b[0m\n",
      "If you are in a Jupyter or Colab notebook, you may need to restart Python in\n",
      "order to load all the package's dependencies. You can do this by selecting the\n",
      "'Restart kernel' or 'Restart runtime' option.\n"
     ]
    }
   ],
   "source": [
    "import re\n",
    "import nltk\n",
    "import spacy\n",
    "import pandas as pd\n",
    "from nltk.corpus import stopwords\n",
    "from sklearn.feature_extraction.text import TfidfVectorizer\n",
    "from sklearn.model_selection import train_test_split\n",
    "from sklearn.naive_bayes import MultinomialNB\n",
    "from sklearn.metrics import accuracy_score\n",
    "from sklearn.ensemble import RandomForestClassifier\n",
    "\n",
    "\n",
    "from sklearn.metrics import confusion_matrix\n",
    "import seaborn as sns\n",
    "import matplotlib.pyplot as plt\n",
    "\n",
    "\n",
    "spacy.cli.download(\"en_core_web_sm\")  # Descargar el modelo de spaCy\n",
    "nlp = spacy.load(\"en_core_web_sm\")  # Cargar modelo de spaCy en inglés\n"
   ]
  },
  {
   "cell_type": "code",
   "execution_count": 86,
   "id": "a111cc40-6bf8-4363-8138-9257ae1a4cf0",
   "metadata": {},
   "outputs": [
    {
     "name": "stdout",
     "output_type": "stream",
     "text": [
      "score\n",
      "5    0.554795\n",
      "4    0.157534\n",
      "1    0.157534\n",
      "3    0.075342\n",
      "2    0.054795\n",
      "Name: count, dtype: float64\n",
      "score\n",
      "1    0.156357\n",
      "2    0.053265\n",
      "3    0.075601\n",
      "4    0.159794\n",
      "5    0.554983\n",
      "Name: count, dtype: float64\n",
      "score\n",
      "5    2020\n",
      "4     580\n",
      "1     570\n",
      "3     275\n",
      "2     195\n",
      "Name: count, dtype: int64\n",
      "200\n",
      "score\n",
      "1     6.395604\n",
      "2    18.774194\n",
      "3    13.227273\n",
      "4     6.258065\n",
      "5     1.801858\n",
      "Name: count, dtype: float64\n"
     ]
    }
   ],
   "source": [
    "\n",
    "# Verificar distribución de clases en cada conjunto\n",
    "print(y_test.value_counts() / len(y_test))\n",
    "print((y_train.value_counts(sort=False) / len(y_train)).sort_index())\n",
    "print(y.value_counts() * 5)\n",
    "print(40 * 5)\n",
    "print(1/(y_train.value_counts(sort = False) / len(y_train)).sort_index())\n"
   ]
  },
  {
   "cell_type": "code",
   "execution_count": 42,
   "id": "4edf4631-03f4-43fd-8dea-d0982291ca14",
   "metadata": {},
   "outputs": [
    {
     "name": "stdout",
     "output_type": "stream",
     "text": [
      "(728, 2)\n",
      "['Es increíble que manden un producto sin haber probado que cargue. Estay de acuerdo que es de segunda mano, pero debería de cargar sin ningún fallo. La compra la financie con varias cosas y la consola era un regalo. Ahora ni carga, he tenido que hacer devolución que al ser Sábado hasta el Lunes o martes no me lo recogen. Tengo que esperar que le lleguen y a los diez días el rembolso. Así que me quede sin poder dar el regalo y encima no puedo pedir otra, xq al ser financiada, tengo cumplido el dinero de la financiación, hasta que no lo devuelvan a saber cuando. He querido hacer un buen regalo y me ha salido fatal. NO ENTIENDO COMO NO PRUEBAN ANTES TODO BIEN Y LO MANDAN ASI...NI UNA ESTRELLA SE MERECE...'\n",
      " 1]\n"
     ]
    }
   ],
   "source": [
    "import numpy as np\n",
    "df = pd.read_csv(\"data/reviews.csv\")  \n",
    "#prueba = [df.review[1:], df.stars[1:]]\n",
    "prueba = np.column_stack((df.review, df.stars)) \n",
    "print(prueba.shape)\n",
    "print(prueba[1])"
   ]
  },
  {
   "cell_type": "code",
   "execution_count": 91,
   "id": "5c7b21f5-7258-4122-afe0-0b4c9a6d11fb",
   "metadata": {},
   "outputs": [
    {
     "name": "stdout",
     "output_type": "stream",
     "text": [
      "{1: 6.395604395604396, 2: 18.774193548387096, 3: 13.227272727272728, 4: 6.258064516129033, 5: 1.8018575851393188}\n"
     ]
    }
   ],
   "source": [
    "print(pesos_dict)"
   ]
  }
 ],
 "metadata": {
  "kernelspec": {
   "display_name": "Python 3 (ipykernel)",
   "language": "python",
   "name": "python3"
  },
  "language_info": {
   "codemirror_mode": {
    "name": "ipython",
    "version": 3
   },
   "file_extension": ".py",
   "mimetype": "text/x-python",
   "name": "python",
   "nbconvert_exporter": "python",
   "pygments_lexer": "ipython3",
   "version": "3.11.8"
  }
 },
 "nbformat": 4,
 "nbformat_minor": 5
}
