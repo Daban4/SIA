{
 "cells": [
  {
   "cell_type": "code",
   "execution_count": 1,
   "metadata": {
    "colab": {
     "base_uri": "https://localhost:8080/"
    },
    "id": "d7P879ECIDdv",
    "outputId": "352b3982-3f13-4ca2-d944-310a3fd6809b"
   },
   "outputs": [
    {
     "name": "stdout",
     "output_type": "stream",
     "text": [
      "Requirement already satisfied: selenium in c:\\users\\carlos\\anaconda3\\lib\\site-packages (4.28.1)\n",
      "Requirement already satisfied: urllib3<3,>=1.26 in c:\\users\\carlos\\anaconda3\\lib\\site-packages (from urllib3[socks]<3,>=1.26->selenium) (2.2.3)\n",
      "Requirement already satisfied: trio~=0.17 in c:\\users\\carlos\\anaconda3\\lib\\site-packages (from selenium) (0.28.0)\n",
      "Requirement already satisfied: trio-websocket~=0.9 in c:\\users\\carlos\\anaconda3\\lib\\site-packages (from selenium) (0.11.1)\n",
      "Requirement already satisfied: certifi>=2021.10.8 in c:\\users\\carlos\\anaconda3\\lib\\site-packages (from selenium) (2024.8.30)\n",
      "Requirement already satisfied: typing_extensions~=4.9 in c:\\users\\carlos\\anaconda3\\lib\\site-packages (from selenium) (4.11.0)\n",
      "Requirement already satisfied: websocket-client~=1.8 in c:\\users\\carlos\\anaconda3\\lib\\site-packages (from selenium) (1.8.0)\n",
      "Requirement already satisfied: attrs>=23.2.0 in c:\\users\\carlos\\anaconda3\\lib\\site-packages (from trio~=0.17->selenium) (25.1.0)\n",
      "Requirement already satisfied: sortedcontainers in c:\\users\\carlos\\anaconda3\\lib\\site-packages (from trio~=0.17->selenium) (2.4.0)\n",
      "Requirement already satisfied: idna in c:\\users\\carlos\\anaconda3\\lib\\site-packages (from trio~=0.17->selenium) (3.7)\n",
      "Requirement already satisfied: outcome in c:\\users\\carlos\\anaconda3\\lib\\site-packages (from trio~=0.17->selenium) (1.3.0.post0)\n",
      "Requirement already satisfied: sniffio>=1.3.0 in c:\\users\\carlos\\anaconda3\\lib\\site-packages (from trio~=0.17->selenium) (1.3.0)\n",
      "Requirement already satisfied: cffi>=1.14 in c:\\users\\carlos\\anaconda3\\lib\\site-packages (from trio~=0.17->selenium) (1.17.1)\n",
      "Requirement already satisfied: wsproto>=0.14 in c:\\users\\carlos\\anaconda3\\lib\\site-packages (from trio-websocket~=0.9->selenium) (1.2.0)\n",
      "Requirement already satisfied: pysocks!=1.5.7,<2.0,>=1.5.6 in c:\\users\\carlos\\anaconda3\\lib\\site-packages (from urllib3[socks]<3,>=1.26->selenium) (1.7.1)\n",
      "Requirement already satisfied: pycparser in c:\\users\\carlos\\anaconda3\\lib\\site-packages (from cffi>=1.14->trio~=0.17->selenium) (2.21)\n",
      "Requirement already satisfied: h11<1,>=0.9.0 in c:\\users\\carlos\\anaconda3\\lib\\site-packages (from wsproto>=0.14->trio-websocket~=0.9->selenium) (0.14.0)\n",
      "Requirement already satisfied: langdetect in c:\\users\\carlos\\anaconda3\\lib\\site-packages (1.0.9)\n",
      "Requirement already satisfied: six in c:\\users\\carlos\\anaconda3\\lib\\site-packages (from langdetect) (1.16.0)\n",
      "Requirement already satisfied: lxml in c:\\users\\carlos\\anaconda3\\lib\\site-packages (5.2.1)\n"
     ]
    }
   ],
   "source": [
    "!pip install selenium\n",
    "!pip install langdetect\n",
    "!pip install lxml\n",
    "\n"
   ]
  },
  {
   "cell_type": "code",
   "execution_count": 2,
   "metadata": {
    "id": "3EUMNL0gHPaR"
   },
   "outputs": [],
   "source": [
    "from selenium import webdriver\n",
    "from selenium.webdriver.common.by import By\n",
    "from selenium.webdriver.common.keys import Keys\n",
    "from selenium.webdriver.support.ui import WebDriverWait\n",
    "from selenium.webdriver.support import expected_conditions as EC\n",
    "import pickle\n",
    "import time\n",
    "from bs4 import BeautifulSoup\n",
    "import os\n",
    "\n"
   ]
  },
  {
   "cell_type": "markdown",
   "metadata": {
    "id": "a41e8da3"
   },
   "source": [
    "### 1. Iniciamos sesión y guardamos las cookies para evitar volver a iniciar sesión:"
   ]
  },
  {
   "cell_type": "markdown",
   "metadata": {
    "colab": {
     "base_uri": "https://localhost:8080/",
     "height": 668
    },
    "id": "16f6737a",
    "outputId": "a688c50c-1fb9-45d8-cc71-ae5071f21893"
   },
   "source": [
    "# Configura tu navegador (en este caso, Chrome)\n",
    "driver = webdriver.Chrome()\n",
    "\n",
    "# Abre la página de Amazon\n",
    "driver.get('https://www.amazon.es')\n",
    "\n",
    "# Espera a que el usuario inicie sesión manualmente\n",
    "input(\"Inicia sesión y presiona Enter para continuar...\")\n",
    "\n",
    "# Guarda las cookies en un archivo\n",
    "cookies = driver.get_cookies()  # Obtiene todas las cookies\n",
    "with open('amazon_cookies.pkl', 'wb') as f:\n",
    "    pickle.dump(cookies, f)\n",
    "\n",
    "print(\"Cookies guardadas correctamente.\")\n",
    "\n"
   ]
  },
  {
   "cell_type": "markdown",
   "metadata": {
    "id": "cd351e20"
   },
   "source": [
    "### 2. Creamos funciones para ayudarnos en la extracción de las reseñas:"
   ]
  },
  {
   "cell_type": "markdown",
   "metadata": {
    "id": "c35d08c2"
   },
   "source": [
    "Obtiene las páginas HTML de un las reseñas de un producto, con un número de estrellas concreto."
   ]
  },
  {
   "cell_type": "code",
   "execution_count": 3,
   "metadata": {
    "id": "1aa0f232"
   },
   "outputs": [],
   "source": [
    "def get_reviews_html(driver, product_id, star_filter):\n",
    "    first_page_url = f\"https://www.amazon.es/product-reviews/{product_id}/ref=acr_dp_hist_5?ie=UTF8&filterByStar={star_filter}&reviewerType=all_reviews#reviews-filter-bar\"\n",
    "\n",
    "    html_datas = []\n",
    "    # Pedimos la página\n",
    "    driver.get(first_page_url)\n",
    "    time.sleep(5)  # Espera a que cargue la página\n",
    "\n",
    "    for i in range (0, 11):\n",
    "        # Guarda el HTML de la página actual\n",
    "        html_datas.append(driver.page_source)\n",
    "\n",
    "        try:\n",
    "            # Esperar a que el botón \"Siguiente\" esté presente y sea clickeable\n",
    "            next_button = WebDriverWait(driver, 5).until(\n",
    "                EC.element_to_be_clickable((By.CLASS_NAME, \"a-last\"))\n",
    "            )\n",
    "\n",
    "            # Si el botón \"Siguiente\" está deshabilitado, hemos llegado al final\n",
    "            if \"a-disabled\" in next_button.get_attribute(\"class\"):\n",
    "                print(\"No hay más páginas de reseñas.\")\n",
    "                break\n",
    "\n",
    "            # Hacer clic en \"Siguiente\"\n",
    "            next_button.click()\n",
    "            time.sleep(5)  # Esperar a que cargue la nueva página\n",
    "        except:\n",
    "            print(\"No se encontró el botón 'Siguiente' o se llegó al final de las páginas.\")\n",
    "            break  # Salimos del bucle si no se encuentra el botón\n",
    "\n",
    "    return html_datas"
   ]
  },
  {
   "cell_type": "markdown",
   "metadata": {
    "id": "5f575f1e"
   },
   "source": [
    "Dada una página HTML, devuelve las reseñas en formato BeautifulSoup."
   ]
  },
  {
   "cell_type": "code",
   "execution_count": 4,
   "metadata": {
    "id": "c3946264"
   },
   "outputs": [],
   "source": [
    "def get_reviews_from_html(page_html: str) -> BeautifulSoup:\n",
    "    soup = BeautifulSoup(page_html, \"lxml\")\n",
    "    reviews = soup.find_all(\"div\", {\"class\": \"a-section celwidget\"})\n",
    "    return reviews"
   ]
  },
  {
   "cell_type": "markdown",
   "metadata": {
    "id": "92cceff8"
   },
   "source": [
    "Dada una reseña en formato BeautifulSoup, devuelve la reseña en formato texto."
   ]
  },
  {
   "cell_type": "code",
   "execution_count": 5,
   "metadata": {
    "id": "eb42c95b"
   },
   "outputs": [],
   "source": [
    "\n",
    "from langdetect import detect\n",
    "\n",
    "def get_review_text(soup_object: BeautifulSoup) -> str:\n",
    "    # Extraemos el texto de la reseña\n",
    "    review_text = soup_object.find(\n",
    "        \"span\", {\"class\": \"a-size-base review-text review-text-content\"}\n",
    "    ).get_text()\n",
    "\n",
    "    # Detectamos el idioma de la reseña\n",
    "    try:\n",
    "        lang = detect(review_text)\n",
    "    except:\n",
    "        lang = 'unknown'  # En caso de que no se pueda detectar el idioma\n",
    "\n",
    "    # Filtramos solo las reseñas en español\n",
    "    if lang == 'es':\n",
    "        return review_text.strip()\n",
    "    else:\n",
    "        return None  # Si no está en español, devolvemos None (o podemos omitirla)\n",
    "\n"
   ]
  },
  {
   "cell_type": "markdown",
   "metadata": {
    "id": "21304064"
   },
   "source": [
    "### 3. Obtenemos los ID-s de los productos que nos interesan sus reseñas:"
   ]
  },
  {
   "cell_type": "code",
   "execution_count": 6,
   "metadata": {
    "id": "be4fd209"
   },
   "outputs": [],
   "source": [
    "ids = [\n",
    "    \"B0CGXX2HG5\",\n",
    "    \"B098RJXBTY\",\n",
    "    \"B0D5B6L569\",\n",
    "    \"B0CBPP9DBV\",\n",
    "    \"B0052X4N8K\",\n",
    "    \"B0CHXCQ9B9\",\n",
    "    \"B0C5CZ9PW3\",\n",
    "    \"B08MLFHTWL\",\n",
    "    \"B07H8D895J\",\n",
    "    \"B01G7G83TK\"\n",
    "]\n"
   ]
  },
  {
   "cell_type": "markdown",
   "metadata": {
    "id": "4b31dfc8"
   },
   "source": [
    "### 4. Extraemos las reseñas:"
   ]
  },
  {
   "cell_type": "code",
   "execution_count": null,
   "metadata": {
    "id": "b28ea088",
    "outputId": "367fea28-dbb0-48e6-bd9c-3923865de694"
   },
   "outputs": [
    {
     "name": "stdout",
     "output_type": "stream",
     "text": [
      "Cookies cargadas correctamente.\n",
      "Extrayendo reseñas del producto Nº0.\n",
      "Extrayendo reseñas del producto de one_star estrellas...\n",
      "No hay más páginas de reseñas.\n",
      "Extrayendo reseñas del producto de two_star estrellas...\n",
      "No se encontró el botón 'Siguiente' o se llegó al final de las páginas.\n",
      "Extrayendo reseñas del producto de three_star estrellas...\n",
      "No hay más páginas de reseñas.\n",
      "Extrayendo reseñas del producto de four_star estrellas...\n",
      "No hay más páginas de reseñas.\n",
      "Extrayendo reseñas del producto de five_star estrellas...\n",
      "No hay más páginas de reseñas.\n",
      "Extrayendo reseñas del producto Nº1.\n",
      "Extrayendo reseñas del producto de one_star estrellas...\n",
      "No hay más páginas de reseñas.\n",
      "Extrayendo reseñas del producto de two_star estrellas...\n",
      "No hay más páginas de reseñas.\n",
      "Extrayendo reseñas del producto de three_star estrellas...\n",
      "No hay más páginas de reseñas.\n",
      "Extrayendo reseñas del producto de four_star estrellas...\n",
      "No hay más páginas de reseñas.\n",
      "Extrayendo reseñas del producto de five_star estrellas...\n",
      "No hay más páginas de reseñas.\n",
      "Extrayendo reseñas del producto Nº2.\n",
      "Extrayendo reseñas del producto de one_star estrellas...\n",
      "No se encontró el botón 'Siguiente' o se llegó al final de las páginas.\n",
      "Extrayendo reseñas del producto de two_star estrellas...\n",
      "No se encontró el botón 'Siguiente' o se llegó al final de las páginas.\n",
      "Extrayendo reseñas del producto de three_star estrellas...\n",
      "No se encontró el botón 'Siguiente' o se llegó al final de las páginas.\n",
      "Extrayendo reseñas del producto de four_star estrellas...\n",
      "No se encontró el botón 'Siguiente' o se llegó al final de las páginas.\n",
      "Extrayendo reseñas del producto de five_star estrellas...\n",
      "No hay más páginas de reseñas.\n",
      "Extrayendo reseñas del producto Nº3.\n",
      "Extrayendo reseñas del producto de one_star estrellas...\n",
      "No se encontró el botón 'Siguiente' o se llegó al final de las páginas.\n",
      "Extrayendo reseñas del producto de two_star estrellas...\n",
      "No se encontró el botón 'Siguiente' o se llegó al final de las páginas.\n",
      "Extrayendo reseñas del producto de three_star estrellas...\n",
      "No se encontró el botón 'Siguiente' o se llegó al final de las páginas.\n",
      "Extrayendo reseñas del producto de four_star estrellas...\n",
      "No hay más páginas de reseñas.\n",
      "Extrayendo reseñas del producto de five_star estrellas...\n",
      "No hay más páginas de reseñas.\n",
      "Extrayendo reseñas del producto Nº4.\n",
      "Extrayendo reseñas del producto de one_star estrellas...\n",
      "No hay más páginas de reseñas.\n",
      "Extrayendo reseñas del producto de two_star estrellas...\n",
      "No hay más páginas de reseñas.\n",
      "Extrayendo reseñas del producto de three_star estrellas...\n",
      "No hay más páginas de reseñas.\n",
      "Extrayendo reseñas del producto de four_star estrellas...\n",
      "No hay más páginas de reseñas.\n",
      "Extrayendo reseñas del producto de five_star estrellas...\n",
      "No hay más páginas de reseñas.\n",
      "Extrayendo reseñas del producto Nº5.\n",
      "Extrayendo reseñas del producto de one_star estrellas...\n"
     ]
    }
   ],
   "source": [
    "from selenium import webdriver\n",
    "from selenium.webdriver.common.by import By\n",
    "from selenium.webdriver.common.keys import Keys\n",
    "from selenium.webdriver.support.ui import WebDriverWait\n",
    "from selenium.webdriver.support import expected_conditions as EC\n",
    "import pickle\n",
    "import time\n",
    "\n",
    "# Configura el navegador\n",
    "driver = webdriver.Chrome()\n",
    "\n",
    "# Abre Amazon\n",
    "driver.get('https://www.amazon.es')\n",
    "\n",
    "# Cargar cookies si existen\n",
    "try:\n",
    "    with open('amazon_cookies.pkl', 'rb') as f:\n",
    "        cookies = pickle.load(f)\n",
    "        for cookie in cookies:\n",
    "            driver.add_cookie(cookie)\n",
    "\n",
    "    driver.refresh()\n",
    "    print(\"Cookies cargadas correctamente.\")\n",
    "except FileNotFoundError:\n",
    "    print(\"No se encontraron cookies guardadas. Inicia sesión manualmente.\")\n",
    "\n",
    "stars_mapping = {\n",
    "    'one_star': 1,\n",
    "    'two_star': 2,\n",
    "    'three_star': 3,\n",
    "    'four_star': 4,\n",
    "    'five_star': 5,\n",
    "    }\n",
    "\n",
    "reviews = {1: [],\n",
    "           2: [],\n",
    "           3: [],\n",
    "           4: [],\n",
    "           5: []}\n",
    "\n",
    "star_filters = ['one_star', 'two_star', 'three_star', 'four_star', 'five_star']\n",
    "\n",
    "for i, product_id in enumerate(ids):\n",
    "    print(f\"Extrayendo reseñas del producto Nº{i}.\")\n",
    "    for star_filter in star_filters:\n",
    "        print(f'Extrayendo reseñas del producto de {star_filter} estrellas...')\n",
    "        # Obtenemos las páginas HTML de interes\n",
    "        reviews_html = get_reviews_html(driver, product_id, star_filter)\n",
    "\n",
    "        for html in reviews_html:\n",
    "            soup_reviews = get_reviews_from_html(html)\n",
    "\n",
    "            for soup_review in soup_reviews:\n",
    "                review_text = get_review_text(soup_review)\n",
    "                if review_text:  # Solo añade si no es None (es decir, si la reseña está en español)\n",
    "                    reviews[stars_mapping[star_filter]].append(review_text)\n",
    "\n",
    "\n",
    "# Cierra el navegador\n",
    "driver.quit()\n"
   ]
  },
  {
   "cell_type": "code",
   "execution_count": null,
   "metadata": {
    "id": "52f50215",
    "outputId": "99942d55-8e72-4256-b441-ac17315c396f"
   },
   "outputs": [],
   "source": [
    "print(len(reviews[2]))\n",
    "# Contamos el número total de elementos en las listas dentro del diccionario\n",
    "num_elementos_totales = sum(len(v) for v in reviews.values())\n",
    "num_elementos_totales\n"
   ]
  },
  {
   "cell_type": "markdown",
   "metadata": {
    "id": "5e968ccd"
   },
   "source": [
    "### 5. Convertimos las reseñas en un DataFrame:"
   ]
  },
  {
   "cell_type": "code",
   "execution_count": null,
   "metadata": {
    "id": "d88a4411",
    "outputId": "ad54b9d5-19d7-4df4-bfc0-67f5507a0f2a"
   },
   "outputs": [],
   "source": [
    "import pandas as pd\n",
    "\n",
    "# Inicializamos listas vacías para reseñas y estrellas\n",
    "review_list = []\n",
    "stars_list = []\n",
    "\n",
    "# Recorremos el diccionario y agregamos las reseñas y estrellas a las listas\n",
    "for stars, review_texts in reviews.items():\n",
    "    for review in review_texts:\n",
    "        review_list.append(review)\n",
    "        stars_list.append(stars)\n",
    "\n",
    "# Creamos el DataFrame\n",
    "reviews_df = pd.DataFrame({\n",
    "    'review': review_list,\n",
    "    'stars': stars_list\n",
    "})\n",
    "\n",
    "# Mostrar el DataFrame\n",
    "print(reviews_df)\n"
   ]
  },
  {
   "cell_type": "markdown",
   "metadata": {
    "id": "85900c50"
   },
   "source": [
    "### 6. Guardamos el DataFrame en un archivo .csv:"
   ]
  },
  {
   "cell_type": "code",
   "execution_count": null,
   "metadata": {
    "id": "951e7e38"
   },
   "outputs": [],
   "source": [
    "# Guardar el DataFrame en un archivo CSV\n",
    "if not os.path.exists('data'):\n",
    "    os.makedirs('data')\n",
    "reviews_df.to_csv('data/reviews_prod_20_29.csv', index=False)"
   ]
  },
  {
   "cell_type": "markdown",
   "metadata": {
    "id": "ad78f10e"
   },
   "source": [
    "### 7. Fusionamos los 3 datasets generados:"
   ]
  },
  {
   "cell_type": "code",
   "execution_count": null,
   "metadata": {
    "id": "110d1eba",
    "outputId": "1d64b85f-2bce-4cb3-8d63-f78febe5b2d9"
   },
   "outputs": [],
   "source": [
    "# Rutas de los datasets\n",
    "path_1 = \"data/reviews_prod_0_9.csv\"\n",
    "path_2 = \"data/reviews_prod_10_19.csv\"\n",
    "path_3 = \"data/reviews_prod_20_29.csv\"\n",
    "\n",
    "# Cargamos los datasets\n",
    "data_1 = pd.read_csv(path_1) #Da error pq hay que leer los productos de 10 en 10, hay que ir camb iando el código\n",
    "data_2 = pd.read_csv(path_2)\n",
    "data_3 = pd.read_csv(path_3)\n",
    "\n",
    "# Fusionamos los tres DataFrames\n",
    "data_combined = pd.concat([data_1, data_2, data_3], ignore_index=True)\n",
    "\n",
    "print(data_combined.head())\n",
    "# Imprimir la longitud (número de filas)\n",
    "print(\"Número de filas:\", len(data_combined))"
   ]
  },
  {
   "cell_type": "code",
   "execution_count": null,
   "metadata": {
    "id": "9c50113f"
   },
   "outputs": [],
   "source": [
    "# Guardamos el dataset combinado en un nuevo CSV\n",
    "data_combined.to_csv(\"data/reviews.csv\", index=False)"
   ]
  }
 ],
 "metadata": {
  "colab": {
   "provenance": []
  },
  "kernelspec": {
   "display_name": "Python 3 (ipykernel)",
   "language": "python",
   "name": "python3"
  },
  "language_info": {
   "codemirror_mode": {
    "name": "ipython",
    "version": 3
   },
   "file_extension": ".py",
   "mimetype": "text/x-python",
   "name": "python",
   "nbconvert_exporter": "python",
   "pygments_lexer": "ipython3",
   "version": "3.12.7"
  }
 },
 "nbformat": 4,
 "nbformat_minor": 4
}
